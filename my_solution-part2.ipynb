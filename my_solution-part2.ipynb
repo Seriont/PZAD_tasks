{
 "cells": [
  {
   "cell_type": "code",
   "execution_count": 1,
   "metadata": {
    "ExecuteTime": {
     "end_time": "2019-09-04T08:33:35.319634Z",
     "start_time": "2019-09-04T08:33:34.830072Z"
    }
   },
   "outputs": [
    {
     "name": "stderr",
     "output_type": "stream",
     "text": [
      "/home/nick-skachkov/venv/lib/python3.5/site-packages/sklearn/ensemble/weight_boosting.py:29: DeprecationWarning: numpy.core.umath_tests is an internal NumPy module and should not be imported. It will be removed in a future NumPy release.\n",
      "  from numpy.core.umath_tests import inner1d\n"
     ]
    }
   ],
   "source": [
    "# Import libraries and set desired options\n",
    "import matplotlib.pyplot as plt\n",
    "import numpy as np\n",
    "import pandas as pd\n",
    "import seaborn as sns\n",
    "from IPython.display import display\n",
    "from scipy import sparse, stats\n",
    "from scipy.linalg import svd\n",
    "from sklearn import preprocessing\n",
    "from sklearn.decomposition import TruncatedSVD\n",
    "from sklearn.ensemble import RandomForestClassifier\n",
    "from sklearn.metrics import f1_score, roc_auc_score\n",
    "from sklearn.model_selection import (KFold, StratifiedKFold, cross_val_score,\n",
    "                                     cross_validate, train_test_split)\n",
    "from tqdm import tqdm\n",
    "from xgboost import XGBClassifier\n",
    "from catboost import CatBoostClassifier\n",
    "from sklearn.linear_model import LogisticRegression\n",
    "from sklearn.ensemble import RandomForestClassifier"
   ]
  },
  {
   "cell_type": "code",
   "execution_count": 2,
   "metadata": {},
   "outputs": [],
   "source": [
    "%matplotlib inline\n",
    "\n",
    "plt.style.use('ggplot')"
   ]
  },
  {
   "cell_type": "code",
   "execution_count": 3,
   "metadata": {
    "ExecuteTime": {
     "end_time": "2019-09-04T08:33:35.322327Z",
     "start_time": "2019-09-04T08:33:35.320726Z"
    }
   },
   "outputs": [],
   "source": [
    "TRAIN_PATH = 'train/'"
   ]
  },
  {
   "cell_type": "markdown",
   "metadata": {},
   "source": [
    "# Read data sets"
   ]
  },
  {
   "cell_type": "code",
   "execution_count": 4,
   "metadata": {
    "ExecuteTime": {
     "end_time": "2019-09-04T08:33:36.365935Z",
     "start_time": "2019-09-04T08:33:35.903478Z"
    }
   },
   "outputs": [],
   "source": [
    "X1 = pd.read_csv(TRAIN_PATH + 'X1.csv')\n",
    "X2 = pd.read_csv(TRAIN_PATH + 'X2.csv')\n",
    "X3 = pd.read_csv(TRAIN_PATH + 'X3.csv')\n",
    "\n",
    "Y = pd.read_csv(TRAIN_PATH + 'Y.csv')"
   ]
  },
  {
   "cell_type": "code",
   "execution_count": 5,
   "metadata": {},
   "outputs": [],
   "source": [
    "TEST_PATH = 'test/'"
   ]
  },
  {
   "cell_type": "code",
   "execution_count": 6,
   "metadata": {},
   "outputs": [],
   "source": [
    "X1_test = pd.read_csv(TEST_PATH + 'X1.csv')\n",
    "X2_test = pd.read_csv(TEST_PATH + 'X2.csv')\n",
    "X3_test = pd.read_csv(TEST_PATH + 'X3.csv')"
   ]
  },
  {
   "cell_type": "code",
   "execution_count": 7,
   "metadata": {
    "ExecuteTime": {
     "end_time": "2019-09-04T08:33:37.485178Z",
     "start_time": "2019-09-04T08:33:37.478886Z"
    }
   },
   "outputs": [],
   "source": [
    "# X3.to_csv(DATA_PATH + 'X3.csv', index=None)"
   ]
  },
  {
   "cell_type": "code",
   "execution_count": 9,
   "metadata": {},
   "outputs": [],
   "source": [
    "for column in '45678':\n",
    "    if column == 'id':\n",
    "        continue\n",
    "    col = X1[column].values\n",
    "    minimum = np.min(col)\n",
    "    X1[column + '_log'] = np.log(col - minimum + 1)\n",
    "    X1_test[column + '_log'] = np.log(X1_test[column] - minimum + 1)"
   ]
  },
  {
   "cell_type": "code",
   "execution_count": 10,
   "metadata": {},
   "outputs": [],
   "source": [
    "for column in X3:\n",
    "    if column == 'id':\n",
    "        continue\n",
    "    col = X3[column].values\n",
    "    minimum = np.min(col)\n",
    "    X3[column + '_log'] = np.log(col - minimum + 1)\n",
    "    X3_test[column + '_log'] = np.log(X3_test[column] - minimum + 1)"
   ]
  },
  {
   "cell_type": "code",
   "execution_count": 11,
   "metadata": {},
   "outputs": [],
   "source": [
    "for column in X3:\n",
    "    if column == 'id':\n",
    "        continue\n",
    "    col = X3[column]\n",
    "    mean = col.mean()\n",
    "    std = np.sqrt(((col - col.mean())**2).mean()) + 1\n",
    "    X3[column] = (col - mean) / std\n",
    "    X3_test[column] = (X3_test[column] - mean) / std"
   ]
  },
  {
   "cell_type": "code",
   "execution_count": 12,
   "metadata": {},
   "outputs": [],
   "source": [
    "for column in '45678':\n",
    "    if column == 'id':\n",
    "        continue\n",
    "    col = X1[column].values\n",
    "    mean = col.mean()\n",
    "    std = np.sqrt(((col - col.mean())**2).mean()) + 1\n",
    "    X1[column] = (col - mean) / std\n",
    "    X1_test[column] = (X1_test[column] - mean) / std"
   ]
  },
  {
   "cell_type": "code",
   "execution_count": 13,
   "metadata": {},
   "outputs": [],
   "source": [
    "def transform_categorical_column(X, column):\n",
    "    for j, unique_value in enumerate(np.unique(X[column].values)):\n",
    "        X['{}_{}'.format(column, j)] = (X['2'] == unique_value).astype(np.int)"
   ]
  },
  {
   "cell_type": "code",
   "execution_count": 14,
   "metadata": {},
   "outputs": [],
   "source": [
    "for col in ['2', '3']:\n",
    "    transform_categorical_column(X1, col)\n",
    "    transform_categorical_column(X1_test, col)"
   ]
  },
  {
   "cell_type": "code",
   "execution_count": 15,
   "metadata": {},
   "outputs": [
    {
     "data": {
      "image/png": "[encoded data removed]",
      "text/plain": [
       "<Figure size 432x288 with 1 Axes>"
      ]
     },
     "metadata": {},
     "output_type": "display_data"
    }
   ],
   "source": [
    "plt.hist(X1['3'], bins=50, label='all', log=True)\n",
    "plt.legend()\n",
    "plt.show()"
   ]
  },
  {
   "cell_type": "code",
   "execution_count": 16,
   "metadata": {},
   "outputs": [
    {
     "data": {
      "image/png": "[encoded data removed]",
      "text/plain": [
       "<Figure size 432x288 with 1 Axes>"
      ]
     },
     "metadata": {},
     "output_type": "display_data"
    }
   ],
   "source": [
    "plt.hist(X2.A, bins=50, density=True, label='all')\n",
    "plt.hist(X2[X2.id == 3].A, bins=50, density=True, label='id=3')\n",
    "plt.legend()\n",
    "plt.show()"
   ]
  },
  {
   "cell_type": "code",
   "execution_count": 17,
   "metadata": {},
   "outputs": [
    {
     "data": {
      "image/png": "[encoded data removed]",
      "text/plain": [
       "<Figure size 432x288 with 1 Axes>"
      ]
     },
     "metadata": {},
     "output_type": "display_data"
    }
   ],
   "source": [
    "plt.hist(X2.A, bins=50)\n",
    "plt.show()"
   ]
  },
  {
   "cell_type": "code",
   "execution_count": 19,
   "metadata": {
    "ExecuteTime": {
     "end_time": "2019-09-04T08:33:38.150739Z",
     "start_time": "2019-09-04T08:33:38.132889Z"
    }
   },
   "outputs": [
    {
     "data": {
      "text/html": [
       "<div>\n",
       "<style scoped>\n",
       "    .dataframe tbody tr th:only-of-type {\n",
       "        vertical-align: middle;\n",
       "    }\n",
       "\n",
       "    .dataframe tbody tr th {\n",
       "        vertical-align: top;\n",
       "    }\n",
       "\n",
       "    .dataframe thead th {\n",
       "        text-align: right;\n",
       "    }\n",
       "</style>\n",
       "<table border=\"1\" class=\"dataframe\">\n",
       "  <thead>\n",
       "    <tr style=\"text-align: right;\">\n",
       "      <th></th>\n",
       "      <th>id</th>\n",
       "      <th>1</th>\n",
       "      <th>2</th>\n",
       "      <th>3</th>\n",
       "      <th>4</th>\n",
       "      <th>5</th>\n",
       "    </tr>\n",
       "  </thead>\n",
       "  <tbody>\n",
       "    <tr>\n",
       "      <th>0</th>\n",
       "      <td>3</td>\n",
       "      <td>1</td>\n",
       "      <td>1</td>\n",
       "      <td>0</td>\n",
       "      <td>0</td>\n",
       "      <td>1</td>\n",
       "    </tr>\n",
       "    <tr>\n",
       "      <th>1</th>\n",
       "      <td>5</td>\n",
       "      <td>0</td>\n",
       "      <td>1</td>\n",
       "      <td>0</td>\n",
       "      <td>0</td>\n",
       "      <td>0</td>\n",
       "    </tr>\n",
       "    <tr>\n",
       "      <th>2</th>\n",
       "      <td>6</td>\n",
       "      <td>0</td>\n",
       "      <td>1</td>\n",
       "      <td>0</td>\n",
       "      <td>0</td>\n",
       "      <td>0</td>\n",
       "    </tr>\n",
       "    <tr>\n",
       "      <th>3</th>\n",
       "      <td>8</td>\n",
       "      <td>1</td>\n",
       "      <td>0</td>\n",
       "      <td>0</td>\n",
       "      <td>0</td>\n",
       "      <td>0</td>\n",
       "    </tr>\n",
       "    <tr>\n",
       "      <th>4</th>\n",
       "      <td>10</td>\n",
       "      <td>0</td>\n",
       "      <td>0</td>\n",
       "      <td>1</td>\n",
       "      <td>1</td>\n",
       "      <td>0</td>\n",
       "    </tr>\n",
       "  </tbody>\n",
       "</table>\n",
       "</div>"
      ],
      "text/plain": [
       "   id  1  2  3  4  5\n",
       "0   3  1  1  0  0  1\n",
       "1   5  0  1  0  0  0\n",
       "2   6  0  1  0  0  0\n",
       "3   8  1  0  0  0  0\n",
       "4  10  0  0  1  1  0"
      ]
     },
     "execution_count": 19,
     "metadata": {},
     "output_type": "execute_result"
    }
   ],
   "source": [
    "Y.head()"
   ]
  },
  {
   "cell_type": "markdown",
   "metadata": {},
   "source": [
    "## Transform X2 using SVD"
   ]
  },
  {
   "cell_type": "code",
   "execution_count": 20,
   "metadata": {},
   "outputs": [],
   "source": [
    "indexes = np.random.choice(np.arange(len(X2)), size=10000)"
   ]
  },
  {
   "cell_type": "code",
   "execution_count": 21,
   "metadata": {},
   "outputs": [
    {
     "data": {
      "text/plain": [
       "(462888, 4000, 4000)"
      ]
     },
     "execution_count": 21,
     "metadata": {},
     "output_type": "execute_result"
    }
   ],
   "source": [
    "len(X2), len(X1), len(X3)"
   ]
  },
  {
   "cell_type": "code",
   "execution_count": 22,
   "metadata": {},
   "outputs": [],
   "source": [
    "X2_sample = X2.iloc[indexes]"
   ]
  },
  {
   "cell_type": "code",
   "execution_count": 24,
   "metadata": {},
   "outputs": [],
   "source": [
    "rows, row_pos = np.unique(X2.iloc[:, 0], return_inverse=True)\n",
    "cols, col_pos = np.unique(X2.iloc[:, 1], return_inverse=True)\n",
    "sparse_matrix = sparse.csr_matrix((np.ones(len(X2)), (row_pos, col_pos)))"
   ]
  },
  {
   "cell_type": "code",
   "execution_count": 28,
   "metadata": {},
   "outputs": [],
   "source": [
    "def transform_x2(X2, svd=None):\n",
    "    rows, row_pos = np.unique(X2.iloc[:, 0], return_inverse=True)\n",
    "    cols, col_pos = np.unique(X2.iloc[:, 1], return_inverse=True)\n",
    "    sparse_matrix = sparse.csr_matrix((np.ones(len(X2)), (row_pos, col_pos)))\n",
    "\n",
    "    cols_ = sparse_matrix.sum(axis=0)\n",
    "    rows_ = sparse_matrix.sum(axis=1)\n",
    "\n",
    "    #sns.distplot(sparse_matrix.sum(axis=0), bins=100)\n",
    "\n",
    "    if svd is None:\n",
    "        svd = TruncatedSVD(n_components=1)\n",
    "        svd.fit(sparse_matrix)\n",
    "\n",
    "    components = pd.DataFrame(svd.transform(sparse_matrix))\n",
    "    components['id'] = X2.iloc[:, 0].unique()\n",
    "    X2 = components\n",
    "    return X2, svd"
   ]
  },
  {
   "cell_type": "markdown",
   "metadata": {},
   "source": [
    "## Merge all datasets into one"
   ]
  },
  {
   "cell_type": "code",
   "execution_count": 29,
   "metadata": {},
   "outputs": [],
   "source": [
    "X2_all = X2.append(X2_test)\n",
    "X2_all, svd = transform_x2(X2_all)"
   ]
  },
  {
   "cell_type": "code",
   "execution_count": 30,
   "metadata": {},
   "outputs": [],
   "source": [
    "X_test_id = X1_test.id"
   ]
  },
  {
   "cell_type": "code",
   "execution_count": 32,
   "metadata": {
    "ExecuteTime": {
     "end_time": "2019-09-04T08:34:05.351519Z",
     "start_time": "2019-09-04T08:34:05.246863Z"
    }
   },
   "outputs": [],
   "source": [
    "X2 = X2_all[X2_all.id.isin(X1.id)]\n",
    "df = X1.merge(X2, on='id', how='inner').merge(X3, on='id').merge(Y, on='id')\n",
    "X = df.iloc[:, 1:-5]\n",
    "Y_cls = df.iloc[:, -5:]"
   ]
  },
  {
   "cell_type": "code",
   "execution_count": 33,
   "metadata": {},
   "outputs": [],
   "source": [
    "X2 = X2_all[X2_all.id.isin(X1.id)]\n",
    "df = X1.merge(X3, on='id', how='inner').merge(Y, on='id')\n",
    "X_nox2 = df.iloc[:, 1:-5]\n",
    "Y_cls = df.iloc[:, -5:]"
   ]
  },
  {
   "cell_type": "code",
   "execution_count": 35,
   "metadata": {
    "scrolled": true
   },
   "outputs": [],
   "source": [
    "X2_test = X2_all[X2_all.id.isin(X1_test.id)]\n",
    "df_test = X1_test.merge(X2_test, on='id', how='inner').merge(X3_test, on='id')\n",
    "X_test = df_test.iloc[:, 1:]"
   ]
  },
  {
   "cell_type": "code",
   "execution_count": 36,
   "metadata": {},
   "outputs": [],
   "source": [
    "X2_test = X2_all[X2_all.id.isin(X1_test.id)]\n",
    "df_test = X1_test.merge(X3_test, on='id', how='inner')\n",
    "X_nox2_test = df_test.iloc[:, 1:]"
   ]
  },
  {
   "cell_type": "code",
   "execution_count": 37,
   "metadata": {},
   "outputs": [],
   "source": [
    "X1_X2 = X1.merge(X2, on='id', how='inner').iloc[:, 1:]\n",
    "X1_X2_test = X1_test.merge(X2_test, on='id', how='inner').iloc[:, 1:]"
   ]
  },
  {
   "cell_type": "markdown",
   "metadata": {},
   "source": [
    "# Modeling"
   ]
  },
  {
   "cell_type": "code",
   "execution_count": 38,
   "metadata": {
    "ExecuteTime": {
     "end_time": "2019-09-04T08:34:08.393068Z",
     "start_time": "2019-09-04T08:34:08.374012Z"
    },
    "code_folding": []
   },
   "outputs": [],
   "source": [
    "def cross_validation_score_statement(estimator,\n",
    "                                     X,\n",
    "                                     y,\n",
    "                                     scoring,\n",
    "                                     n_splits=5,\n",
    "                                     statement=None,\n",
    "                                     random_state=0):\n",
    "    \"\"\"\n",
    "    Evaluate a score by cross-validation. \n",
    "    The fit method will be performed on the entire train subset at each iteration,\n",
    "    the predict method and scoring will be performed only for objects from test subset where statement is True\n",
    "    \n",
    "    Parameters\n",
    "    ----------\n",
    "    estimator : estimator object implementing 'fit' and 'predict'\n",
    "        The object to use to fit the data.\n",
    "    X : pandas.DataFrame\n",
    "        The data to fit.\n",
    "    y : pandas.Series\n",
    "        The target variable to try to predict.\n",
    "    scoring : callable \n",
    "        The scoring function of signature scoring(y_true,y_pred).\n",
    "    statement : boolean numpy.array of shape equal to y.shape\n",
    "        The mask showing the objects we want to evaluate estimator on.\n",
    "    n_splits : int\n",
    "        Number of folds for cross-validation\n",
    "    random_state : int\n",
    "        Random_state for KFold and StratifiedKFold    \n",
    "    \n",
    "    Returns\n",
    "    -----------\n",
    "    scores : array of float, shape=(n_splits,)\n",
    "    \n",
    "    \"\"\"\n",
    "    if statement is None:\n",
    "        cv = KFold(n_splits=n_splits, shuffle=False, random_state=random_state)\n",
    "        cv_iter = list(cv.split(X, y))\n",
    "    else:\n",
    "        cv = StratifiedKFold(n_splits=n_splits,\n",
    "                             shuffle=True,\n",
    "                             random_state=random_state)\n",
    "        cv_iter = list(cv.split(X, statement))\n",
    "    scores = []\n",
    "\n",
    "    for train, test in cv_iter:\n",
    "        estimator.fit(X.iloc[train, :].values, y.iloc[train].values)\n",
    "        if statement is not None:\n",
    "            y_statement = y.iloc[test].loc[statement[test]]\n",
    "            pred_statement = estimator.predict_proba(\n",
    "                X.iloc[test, :].loc[statement[test]].values)[:, 1]\n",
    "        else:\n",
    "            y_statement = y.iloc[test]\n",
    "            pred_statement = estimator.predict_proba(X.iloc[test, :].values)[:, 1]\n",
    "        scores.append(scoring(y_statement, pred_statement))\n",
    "    return np.array(scores)"
   ]
  },
  {
   "cell_type": "code",
   "execution_count": 39,
   "metadata": {
    "ExecuteTime": {
     "end_time": "2019-09-04T08:34:09.432841Z",
     "start_time": "2019-09-04T08:34:09.413959Z"
    },
    "code_folding": []
   },
   "outputs": [],
   "source": [
    "params = {'1': {'alpha': 0,\n",
    "  'colsample_bytree': 0.6,\n",
    "  'eta': 0.05,\n",
    "  'learning_rate': 0.017,\n",
    "  'max_delta_step': 5,\n",
    "  'max_depth': 2,\n",
    "  'min_child_samples': 100,\n",
    "  'min_child_weight': 5,\n",
    "  'n_estimators': 100,\n",
    "  'num_leaves': 44,\n",
    "  'scale_pos_weight': 1},\n",
    "}"
   ]
  },
  {
   "cell_type": "markdown",
   "metadata": {},
   "source": [
    "### Feature Selection"
   ]
  },
  {
   "cell_type": "code",
   "execution_count": 49,
   "metadata": {},
   "outputs": [
    {
     "name": "stdout",
     "output_type": "stream",
     "text": [
      "ROC_AUC 1: 0.6109133991932574\n",
      "ROC_AUC 2: 0.6108429318462594\n",
      "ROC_AUC 3: 0.6255292497191289\n",
      "ROC_AUC 4: 0.6087706481116403\n",
      "ROC_AUC 5: 0.569781186443849\n",
      "0.6051674830628271\n"
     ]
    }
   ],
   "source": [
    "scores = []\n",
    "for i in '12345':\n",
    "    cls = LogisticRegression(C=1.0, penalty='l1')\n",
    "    cls.fit(X_nox2.values, Y_cls[i].values)\n",
    "    \n",
    "    features = (cls.coef_ != 0).ravel()\n",
    "    cls = LogisticRegression(C=5)\n",
    "    res = cross_validation_score_statement(X=X_nox2.iloc[:, features], y=Y_cls[i], n_splits=5, random_state=42,\n",
    "                                           estimator=cls, scoring=roc_auc_score)\n",
    "    print(\"ROC_AUC {}: {}\".format(i, res.mean()))\n",
    "    scores.append(res.mean())\n",
    "print(np.mean(scores))"
   ]
  },
  {
   "cell_type": "code",
   "execution_count": 41,
   "metadata": {},
   "outputs": [
    {
     "name": "stdout",
     "output_type": "stream",
     "text": [
      "ROC_AUC 1: 0.6009588509471685\n",
      "ROC_AUC 2: 0.583569031017519\n",
      "ROC_AUC 3: 0.6122103264780772\n",
      "ROC_AUC 4: 0.5861806125974078\n",
      "ROC_AUC 5: 0.5409875780344622\n",
      "0.584781279814927\n"
     ]
    }
   ],
   "source": [
    "scores = []\n",
    "f_imp = []\n",
    "for i in '12345':\n",
    "    cls = XGBClassifier(n_jobs=8, random_state=0, **params['1'])\n",
    "    res = cross_validation_score_statement(X=X, y=Y_cls[i], estimator=cls, scoring=roc_auc_score)\n",
    "    f_imp.append(cls.feature_importances_)\n",
    "    print(\"ROC_AUC {}: {}\".format(i, res.mean()))\n",
    "    scores.append(res.mean())\n",
    "print(np.mean(scores))"
   ]
  },
  {
   "cell_type": "code",
   "execution_count": 75,
   "metadata": {},
   "outputs": [
    {
     "data": {
      "text/html": [
       "<div>\n",
       "<style scoped>\n",
       "    .dataframe tbody tr th:only-of-type {\n",
       "        vertical-align: middle;\n",
       "    }\n",
       "\n",
       "    .dataframe tbody tr th {\n",
       "        vertical-align: top;\n",
       "    }\n",
       "\n",
       "    .dataframe thead th {\n",
       "        text-align: right;\n",
       "    }\n",
       "</style>\n",
       "<table border=\"1\" class=\"dataframe\">\n",
       "  <thead>\n",
       "    <tr style=\"text-align: right;\">\n",
       "      <th></th>\n",
       "      <th>id</th>\n",
       "      <th>1</th>\n",
       "      <th>2</th>\n",
       "      <th>3</th>\n",
       "      <th>4</th>\n",
       "      <th>5</th>\n",
       "      <th>6</th>\n",
       "      <th>7</th>\n",
       "      <th>8</th>\n",
       "      <th>9</th>\n",
       "      <th>...</th>\n",
       "      <th>2_0</th>\n",
       "      <th>2_1</th>\n",
       "      <th>2_2</th>\n",
       "      <th>2_3</th>\n",
       "      <th>2_4</th>\n",
       "      <th>3_0</th>\n",
       "      <th>3_1</th>\n",
       "      <th>3_2</th>\n",
       "      <th>3_3</th>\n",
       "      <th>3_4</th>\n",
       "    </tr>\n",
       "  </thead>\n",
       "  <tbody>\n",
       "    <tr>\n",
       "      <th>0</th>\n",
       "      <td>3</td>\n",
       "      <td>1</td>\n",
       "      <td>-1.0</td>\n",
       "      <td>-1.0</td>\n",
       "      <td>0.012096</td>\n",
       "      <td>0.114546</td>\n",
       "      <td>0.629180</td>\n",
       "      <td>0.030938</td>\n",
       "      <td>-0.401800</td>\n",
       "      <td>0.0</td>\n",
       "      <td>...</td>\n",
       "      <td>0</td>\n",
       "      <td>1</td>\n",
       "      <td>0</td>\n",
       "      <td>0</td>\n",
       "      <td>0</td>\n",
       "      <td>0</td>\n",
       "      <td>1</td>\n",
       "      <td>0</td>\n",
       "      <td>0</td>\n",
       "      <td>0</td>\n",
       "    </tr>\n",
       "    <tr>\n",
       "      <th>1</th>\n",
       "      <td>5</td>\n",
       "      <td>0</td>\n",
       "      <td>0.0</td>\n",
       "      <td>0.0</td>\n",
       "      <td>-0.229536</td>\n",
       "      <td>-0.298572</td>\n",
       "      <td>-0.059275</td>\n",
       "      <td>-0.114461</td>\n",
       "      <td>-0.520437</td>\n",
       "      <td>2.0</td>\n",
       "      <td>...</td>\n",
       "      <td>0</td>\n",
       "      <td>0</td>\n",
       "      <td>1</td>\n",
       "      <td>0</td>\n",
       "      <td>0</td>\n",
       "      <td>0</td>\n",
       "      <td>0</td>\n",
       "      <td>1</td>\n",
       "      <td>0</td>\n",
       "      <td>0</td>\n",
       "    </tr>\n",
       "    <tr>\n",
       "      <th>2</th>\n",
       "      <td>6</td>\n",
       "      <td>1</td>\n",
       "      <td>0.0</td>\n",
       "      <td>0.0</td>\n",
       "      <td>0.153742</td>\n",
       "      <td>-0.047461</td>\n",
       "      <td>5.669305</td>\n",
       "      <td>-0.082150</td>\n",
       "      <td>0.910618</td>\n",
       "      <td>29.0</td>\n",
       "      <td>...</td>\n",
       "      <td>0</td>\n",
       "      <td>0</td>\n",
       "      <td>1</td>\n",
       "      <td>0</td>\n",
       "      <td>0</td>\n",
       "      <td>0</td>\n",
       "      <td>0</td>\n",
       "      <td>1</td>\n",
       "      <td>0</td>\n",
       "      <td>0</td>\n",
       "    </tr>\n",
       "    <tr>\n",
       "      <th>3</th>\n",
       "      <td>8</td>\n",
       "      <td>1</td>\n",
       "      <td>0.0</td>\n",
       "      <td>0.0</td>\n",
       "      <td>-0.001791</td>\n",
       "      <td>0.257112</td>\n",
       "      <td>0.242540</td>\n",
       "      <td>-0.130616</td>\n",
       "      <td>-0.527851</td>\n",
       "      <td>2.0</td>\n",
       "      <td>...</td>\n",
       "      <td>0</td>\n",
       "      <td>0</td>\n",
       "      <td>1</td>\n",
       "      <td>0</td>\n",
       "      <td>0</td>\n",
       "      <td>0</td>\n",
       "      <td>0</td>\n",
       "      <td>1</td>\n",
       "      <td>0</td>\n",
       "      <td>0</td>\n",
       "    </tr>\n",
       "    <tr>\n",
       "      <th>4</th>\n",
       "      <td>10</td>\n",
       "      <td>1</td>\n",
       "      <td>0.0</td>\n",
       "      <td>0.0</td>\n",
       "      <td>-0.282306</td>\n",
       "      <td>-0.296951</td>\n",
       "      <td>-0.365036</td>\n",
       "      <td>-0.130616</td>\n",
       "      <td>-0.401800</td>\n",
       "      <td>1.0</td>\n",
       "      <td>...</td>\n",
       "      <td>0</td>\n",
       "      <td>0</td>\n",
       "      <td>1</td>\n",
       "      <td>0</td>\n",
       "      <td>0</td>\n",
       "      <td>0</td>\n",
       "      <td>0</td>\n",
       "      <td>1</td>\n",
       "      <td>0</td>\n",
       "      <td>0</td>\n",
       "    </tr>\n",
       "  </tbody>\n",
       "</table>\n",
       "<p>5 rows × 36 columns</p>\n",
       "</div>"
      ],
      "text/plain": [
       "   id  1    2    3         4         5         6         7         8     9  \\\n",
       "0   3  1 -1.0 -1.0  0.012096  0.114546  0.629180  0.030938 -0.401800   0.0   \n",
       "1   5  0  0.0  0.0 -0.229536 -0.298572 -0.059275 -0.114461 -0.520437   2.0   \n",
       "2   6  1  0.0  0.0  0.153742 -0.047461  5.669305 -0.082150  0.910618  29.0   \n",
       "3   8  1  0.0  0.0 -0.001791  0.257112  0.242540 -0.130616 -0.527851   2.0   \n",
       "4  10  1  0.0  0.0 -0.282306 -0.296951 -0.365036 -0.130616 -0.401800   1.0   \n",
       "\n",
       "   ...  2_0  2_1  2_2  2_3  2_4  3_0  3_1  3_2  3_3  3_4  \n",
       "0  ...    0    1    0    0    0    0    1    0    0    0  \n",
       "1  ...    0    0    1    0    0    0    0    1    0    0  \n",
       "2  ...    0    0    1    0    0    0    0    1    0    0  \n",
       "3  ...    0    0    1    0    0    0    0    1    0    0  \n",
       "4  ...    0    0    1    0    0    0    0    1    0    0  \n",
       "\n",
       "[5 rows x 36 columns]"
      ]
     },
     "execution_count": 75,
     "metadata": {},
     "output_type": "execute_result"
    }
   ],
   "source": [
    "X1.head()"
   ]
  },
  {
   "cell_type": "code",
   "execution_count": 78,
   "metadata": {
    "scrolled": true
   },
   "outputs": [
    {
     "name": "stderr",
     "output_type": "stream",
     "text": [
      "100%|██████████| 5/5 [00:00<00:00,  7.08it/s]\n"
     ]
    }
   ],
   "source": [
    "models = []\n",
    "probas = []\n",
    "scores = []\n",
    "for i in tqdm('12345'):\n",
    "    if i == '1' or True:\n",
    "        cls = XGBClassifier(n_jobs=8, random_state=0, **params['1'])\n",
    "        cls.fit(X1.values, Y_cls[i].values)\n",
    "        proba = cls.predict_proba(X1_test.values)[:, 1]\n",
    "    else:\n",
    "        cls = LogisticRegression(C=1.0, penalty='l1')\n",
    "        cls.fit(X_nox2.values, Y_cls[i].values)\n",
    "        features = (cls.coef_ != 0).ravel()\n",
    "        cls = LogisticRegression(C=0.5)\n",
    "        cls.fit(X_nox2.iloc[:, features].values, Y_cls[i].values)\n",
    "        proba = cls.predict_proba(X=X_nox2_test.iloc[:, features].values)[:, 1]\n",
    "    probas += [proba]\n",
    "    models.append(cls)"
   ]
  },
  {
   "cell_type": "code",
   "execution_count": 63,
   "metadata": {},
   "outputs": [
    {
     "name": "stdout",
     "output_type": "stream",
     "text": [
      "ROC_AUC 1: 0.6073019710005298\n",
      "ROC_AUC 2: 0.6075630666250589\n",
      "ROC_AUC 3: 0.6171968929700282\n",
      "ROC_AUC 4: 0.6074882543484363\n",
      "ROC_AUC 5: 0.5669812061267449\n",
      "0.6013062782141596\n"
     ]
    }
   ],
   "source": [
    "scores = []\n",
    "for i in '12345':\n",
    "    #cls = XGBClassifier(n_jobs=8, random_state=0, **params['1'])\n",
    "    cls = LogisticRegression(C=2.0, penalty='l1')\n",
    "    cls.fit(X.values, Y_cls[i].values)\n",
    "    #cls = CatBoostClassifier()\n",
    "    features = (cls.coef_ != 0).ravel()\n",
    "    cls = LogisticRegression(C=0.5)\n",
    "    res = cross_validation_score_statement(X=X.iloc[:, features], y=Y_cls[i], n_splits=5, random_state=43,\n",
    "                                           estimator=cls, scoring=roc_auc_score)\n",
    "    print(\"ROC_AUC {}: {}\".format(i, res.mean()))\n",
    "    scores.append(res.mean())\n",
    "print(np.mean(scores))"
   ]
  },
  {
   "cell_type": "code",
   "execution_count": 65,
   "metadata": {},
   "outputs": [],
   "source": [
    "tmp = pd.DataFrame(probas).T\n",
    "baseline = pd.DataFrame(tmp.values, columns=['1', '2', '3', '4', '5'])\n",
    "baseline['id'] = X_test_id\n",
    "baseline[['id', '1', '2', '3', '4', '5']].to_csv('sol10_features_logs.csv', index=False)"
   ]
  },
  {
   "cell_type": "markdown",
   "metadata": {},
   "source": [
    "# Experiments with Domain Adaptation"
   ]
  },
  {
   "cell_type": "code",
   "execution_count": 363,
   "metadata": {},
   "outputs": [],
   "source": [
    "import torch as th\n",
    "import torch.nn as nn\n",
    "import torch.nn.functional as F\n",
    "from torch.autograd import Function"
   ]
  },
  {
   "cell_type": "code",
   "execution_count": 364,
   "metadata": {},
   "outputs": [],
   "source": [
    "random_indexes = np.random.choice(np.arange(4000), size=500)\n",
    "mask = np.ones(4000, dtype=np.bool)\n",
    "mask[random_indexes] = False"
   ]
  },
  {
   "cell_type": "code",
   "execution_count": 365,
   "metadata": {},
   "outputs": [
    {
     "data": {
      "text/plain": [
       "array([ True,  True,  True, ...,  True,  True,  True])"
      ]
     },
     "execution_count": 365,
     "metadata": {},
     "output_type": "execute_result"
    }
   ],
   "source": [
    "mask"
   ]
  },
  {
   "cell_type": "code",
   "execution_count": 366,
   "metadata": {},
   "outputs": [],
   "source": [
    "from torch.optim import Adam, SGD"
   ]
  },
  {
   "cell_type": "code",
   "execution_count": 397,
   "metadata": {},
   "outputs": [],
   "source": [
    "alpha = 0.1"
   ]
  },
  {
   "cell_type": "code",
   "execution_count": 398,
   "metadata": {},
   "outputs": [],
   "source": [
    "class GradReverse(Function):\n",
    "    @staticmethod\n",
    "    def forward(ctx, x):\n",
    "        return x.view_as(x)\n",
    "\n",
    "    @staticmethod\n",
    "    def backward(ctx, grad_output):\n",
    "        return grad_output.neg() * alpha\n",
    "\n",
    "def grad_reverse(x):\n",
    "    return GradReverse.apply(x)"
   ]
  },
  {
   "cell_type": "code",
   "execution_count": 399,
   "metadata": {},
   "outputs": [],
   "source": [
    "class LogReg(nn.Module):\n",
    "    def __init__(self, inp_size, out=2, hid=100):\n",
    "        super(LogReg, self).__init__()\n",
    "        print(inp_size)\n",
    "        self.layer1 = nn.Sequential(\n",
    "            nn.Linear(in_features=inp_size, out_features=hid),\n",
    "            nn.ReLU(),\n",
    "            nn.Linear(hid, hid),\n",
    "            nn.ReLU(),\n",
    "            nn.Linear(hid, hid))\n",
    "        self.layer2 = nn.Linear(in_features=hid, out_features=out)\n",
    "        self.adv = nn.Linear(in_features=hid, out_features=1)\n",
    "        self.bn = nn.BatchNorm1d(inp_size)\n",
    "    \n",
    "    def forward(self, X):\n",
    "        #hid_state = self.layer1(self.bn(X))\n",
    "        hid_state = self.layer1(self.bn(X))\n",
    "        return self.layer2(hid_state), self.adv(grad_reverse(hid_state))"
   ]
  },
  {
   "cell_type": "code",
   "execution_count": 400,
   "metadata": {},
   "outputs": [
    {
     "name": "stdout",
     "output_type": "stream",
     "text": [
      "36\n"
     ]
    }
   ],
   "source": [
    "model = LogReg(inp_size=X1.values.shape[1], out=5, hid=10)"
   ]
  },
  {
   "cell_type": "code",
   "execution_count": 409,
   "metadata": {},
   "outputs": [],
   "source": [
    "optimizer = SGD(params=model.parameters(), lr=0.01, weight_decay=0.0, momentum=0.8)"
   ]
  },
  {
   "cell_type": "code",
   "execution_count": 412,
   "metadata": {},
   "outputs": [
    {
     "name": "stdout",
     "output_type": "stream",
     "text": [
      "2.0038578510284424\n",
      "2.0027103424072266\n",
      "1.9978508949279785\n",
      "1.990417242050171\n",
      "2.0005130767822266\n",
      "2.005807399749756\n",
      "1.9946353435516357\n",
      "2.0110743045806885\n",
      "2.00308895111084\n",
      "1.9955081939697266\n"
     ]
    }
   ],
   "source": [
    "for i in range(500):\n",
    "    bs = 500\n",
    "    indexes = np.random.choice(np.arange(3500), size=bs)\n",
    "    test_indexes = np.random.choice(np.arange(len(X1_test)), size=bs)\n",
    "    optimizer.zero_grad()\n",
    "    input_tensor = th.Tensor(X1.values[mask])[indexes, :]\n",
    "    input_test_tensor = th.Tensor(X1_test.values)[test_indexes, :]\n",
    "    #print(input_tensor.shape)\n",
    "    logits, adv_logits = model(input_tensor)\n",
    "    _, adv_test_logits = model(input_test_tensor)\n",
    "    #print(logits.shape)\n",
    "    labels = th.Tensor(Y.values[mask])[indexes, 1:]\n",
    "    loss = F.binary_cross_entropy_with_logits(input=logits, target=labels)\n",
    "    loss += F.binary_cross_entropy_with_logits(input=adv_logits, target=th.zeros(bs, 1))\n",
    "    loss += F.binary_cross_entropy_with_logits(input=adv_test_logits, target=th.ones(bs, 1))\n",
    "    loss.backward()\n",
    "    optimizer.step()\n",
    "    if i % 50 == 0:\n",
    "        print(float(loss))"
   ]
  },
  {
   "cell_type": "code",
   "execution_count": 404,
   "metadata": {},
   "outputs": [],
   "source": [
    "logits, adv_logits = model(th.Tensor(X1.values))"
   ]
  },
  {
   "cell_type": "code",
   "execution_count": null,
   "metadata": {},
   "outputs": [],
   "source": []
  },
  {
   "cell_type": "code",
   "execution_count": 301,
   "metadata": {},
   "outputs": [
    {
     "name": "stdout",
     "output_type": "stream",
     "text": [
      "0.4811239\n"
     ]
    },
    {
     "data": {
      "image/png": "[encoded data removed]",
      "text/plain": [
       "<Figure size 432x288 with 1 Axes>"
      ]
     },
     "metadata": {},
     "output_type": "display_data"
    }
   ],
   "source": [
    "a = th.sigmoid(adv_logits).detach().numpy()\n",
    "plt.hist(a, bins=30)\n",
    "print(a.mean())\n",
    "plt.show()"
   ]
  },
  {
   "cell_type": "code",
   "execution_count": 302,
   "metadata": {},
   "outputs": [],
   "source": [
    "k = th.sigmoid(adv_logits).detach().numpy().ravel()"
   ]
  },
  {
   "cell_type": "code",
   "execution_count": 304,
   "metadata": {},
   "outputs": [
    {
     "data": {
      "text/plain": [
       "(0.47925, 0.52075)"
      ]
     },
     "execution_count": 304,
     "metadata": {},
     "output_type": "execute_result"
    }
   ],
   "source": [
    "(k > 0.5).mean(), (k < 0.5).mean()"
   ]
  },
  {
   "cell_type": "code",
   "execution_count": 305,
   "metadata": {},
   "outputs": [
    {
     "name": "stdout",
     "output_type": "stream",
     "text": [
      "0.5227268361519309\n",
      "0.5512660338232774\n",
      "0.48125328263838957\n",
      "0.5276869001452378\n",
      "0.5014335434738025\n"
     ]
    }
   ],
   "source": [
    "for i in range(5):\n",
    "    #print(th.sigmoid(logits)[:, i].detach().numpy().shape)\n",
    "    #print(Y.values[:, i])\n",
    "    print(roc_auc_score(y_score=th.sigmoid(logits)[:, i].detach().numpy(), y_true=Y.values[:, i+1]))"
   ]
  },
  {
   "cell_type": "code",
   "execution_count": 307,
   "metadata": {},
   "outputs": [],
   "source": [
    "logits, adv_logits = model(th.Tensor(X1.values[np.logical_not(mask)]))"
   ]
  },
  {
   "cell_type": "markdown",
   "metadata": {},
   "source": [
    "### results on test"
   ]
  },
  {
   "cell_type": "code",
   "execution_count": 308,
   "metadata": {},
   "outputs": [
    {
     "name": "stdout",
     "output_type": "stream",
     "text": [
      "0.5373125326685698\n",
      "0.5413133523504357\n",
      "0.4540254737007626\n",
      "0.4891295546558705\n",
      "0.5400747508305648\n"
     ]
    }
   ],
   "source": [
    "for i in range(5):\n",
    "    print(roc_auc_score(y_score=th.sigmoid(logits)[:, i].detach().numpy(), y_true=Y.values[np.logical_not(mask), i+1]))"
   ]
  },
  {
   "cell_type": "code",
   "execution_count": 105,
   "metadata": {},
   "outputs": [],
   "source": [
    "logits, _ = model(th.Tensor(X_test.values))"
   ]
  },
  {
   "cell_type": "code",
   "execution_count": 106,
   "metadata": {},
   "outputs": [],
   "source": [
    "tmp = pd.DataFrame(th.sigmoid(logits).detach().numpy())"
   ]
  },
  {
   "cell_type": "code",
   "execution_count": 107,
   "metadata": {},
   "outputs": [
    {
     "data": {
      "text/html": [
       "<div>\n",
       "<style scoped>\n",
       "    .dataframe tbody tr th:only-of-type {\n",
       "        vertical-align: middle;\n",
       "    }\n",
       "\n",
       "    .dataframe tbody tr th {\n",
       "        vertical-align: top;\n",
       "    }\n",
       "\n",
       "    .dataframe thead th {\n",
       "        text-align: right;\n",
       "    }\n",
       "</style>\n",
       "<table border=\"1\" class=\"dataframe\">\n",
       "  <thead>\n",
       "    <tr style=\"text-align: right;\">\n",
       "      <th></th>\n",
       "      <th>0</th>\n",
       "      <th>1</th>\n",
       "      <th>2</th>\n",
       "      <th>3</th>\n",
       "      <th>4</th>\n",
       "    </tr>\n",
       "  </thead>\n",
       "  <tbody>\n",
       "    <tr>\n",
       "      <th>0</th>\n",
       "      <td>0.247434</td>\n",
       "      <td>0.253819</td>\n",
       "      <td>0.283182</td>\n",
       "      <td>0.271962</td>\n",
       "      <td>0.297614</td>\n",
       "    </tr>\n",
       "    <tr>\n",
       "      <th>1</th>\n",
       "      <td>0.237261</td>\n",
       "      <td>0.232551</td>\n",
       "      <td>0.424162</td>\n",
       "      <td>0.322065</td>\n",
       "      <td>0.348157</td>\n",
       "    </tr>\n",
       "    <tr>\n",
       "      <th>2</th>\n",
       "      <td>0.328054</td>\n",
       "      <td>0.419596</td>\n",
       "      <td>0.255210</td>\n",
       "      <td>0.167643</td>\n",
       "      <td>0.553972</td>\n",
       "    </tr>\n",
       "    <tr>\n",
       "      <th>3</th>\n",
       "      <td>0.318084</td>\n",
       "      <td>0.250333</td>\n",
       "      <td>0.412678</td>\n",
       "      <td>0.203318</td>\n",
       "      <td>0.347024</td>\n",
       "    </tr>\n",
       "    <tr>\n",
       "      <th>4</th>\n",
       "      <td>0.524603</td>\n",
       "      <td>0.368957</td>\n",
       "      <td>0.410694</td>\n",
       "      <td>0.323245</td>\n",
       "      <td>0.555158</td>\n",
       "    </tr>\n",
       "  </tbody>\n",
       "</table>\n",
       "</div>"
      ],
      "text/plain": [
       "          0         1         2         3         4\n",
       "0  0.247434  0.253819  0.283182  0.271962  0.297614\n",
       "1  0.237261  0.232551  0.424162  0.322065  0.348157\n",
       "2  0.328054  0.419596  0.255210  0.167643  0.553972\n",
       "3  0.318084  0.250333  0.412678  0.203318  0.347024\n",
       "4  0.524603  0.368957  0.410694  0.323245  0.555158"
      ]
     },
     "execution_count": 107,
     "metadata": {},
     "output_type": "execute_result"
    }
   ],
   "source": [
    "tmp.head()"
   ]
  },
  {
   "cell_type": "code",
   "execution_count": 108,
   "metadata": {},
   "outputs": [],
   "source": [
    "#tmp = pd.DataFrame(probas).T\n",
    "baseline = pd.DataFrame(tmp.values, columns=['1', '2', '3', '4', '5'])\n",
    "baseline['id'] = X_test_id\n",
    "baseline[['id', '1', '2', '3', '4', '5']].to_csv('sol7_adv.csv', index=False)"
   ]
  },
  {
   "cell_type": "code",
   "execution_count": null,
   "metadata": {},
   "outputs": [],
   "source": []
  }
 ],
 "metadata": {
  "hide_input": false,
  "kernelspec": {
   "display_name": "Python 3",
   "language": "python",
   "name": "python3"
  },
  "language_info": {
   "codemirror_mode": {
    "name": "ipython",
    "version": 3
   },
   "file_extension": ".py",
   "mimetype": "text/x-python",
   "name": "python",
   "nbconvert_exporter": "python",
   "pygments_lexer": "ipython3",
   "version": "3.5.2"
  },
  "toc": {
   "base_numbering": 1,
   "nav_menu": {},
   "number_sections": true,
   "sideBar": true,
   "skip_h1_title": false,
   "title_cell": "Table of Contents",
   "title_sidebar": "Contents",
   "toc_cell": false,
   "toc_position": {
    "height": "calc(100% - 180px)",
    "left": "10px",
    "top": "150px",
    "width": "246.6px"
   },
   "toc_section_display": true,
   "toc_window_display": true
  }
 },
 "nbformat": 4,
 "nbformat_minor": 2
}
