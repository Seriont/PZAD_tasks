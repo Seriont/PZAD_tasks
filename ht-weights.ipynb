{
 "cells": [
  {
   "cell_type": "markdown",
   "metadata": {},
   "source": [
    "# Студент: Скачков Николай Андреевич\n",
    "# Задание: Предложить и исследовать новые весовые схемы в задаче прогнозирования визитов пользователя"
   ]
  },
  {
   "cell_type": "code",
   "execution_count": 1,
   "metadata": {},
   "outputs": [],
   "source": [
    "import pandas as pd\n",
    "import numpy as np\n",
    "import matplotlib.pyplot as plt\n",
    "\n",
    "from datetime import datetime\n",
    "    \n",
    "plt.style.use('ggplot')\n",
    "\n",
    "%matplotlib inline"
   ]
  },
  {
   "cell_type": "code",
   "execution_count": 2,
   "metadata": {},
   "outputs": [],
   "source": [
    "df = pd.read_csv('./training.csv')"
   ]
  },
  {
   "cell_type": "code",
   "execution_count": 3,
   "metadata": {},
   "outputs": [
    {
     "data": {
      "text/html": [
       "<div>\n",
       "<style scoped>\n",
       "    .dataframe tbody tr th:only-of-type {\n",
       "        vertical-align: middle;\n",
       "    }\n",
       "\n",
       "    .dataframe tbody tr th {\n",
       "        vertical-align: top;\n",
       "    }\n",
       "\n",
       "    .dataframe thead th {\n",
       "        text-align: right;\n",
       "    }\n",
       "</style>\n",
       "<table border=\"1\" class=\"dataframe\">\n",
       "  <thead>\n",
       "    <tr style=\"text-align: right;\">\n",
       "      <th></th>\n",
       "      <th>customer_id</th>\n",
       "      <th>visit_date</th>\n",
       "      <th>visit_spend</th>\n",
       "    </tr>\n",
       "  </thead>\n",
       "  <tbody>\n",
       "    <tr>\n",
       "      <th>0</th>\n",
       "      <td>2</td>\n",
       "      <td>2010-04-01</td>\n",
       "      <td>5.97</td>\n",
       "    </tr>\n",
       "    <tr>\n",
       "      <th>1</th>\n",
       "      <td>2</td>\n",
       "      <td>2010-04-06</td>\n",
       "      <td>12.71</td>\n",
       "    </tr>\n",
       "    <tr>\n",
       "      <th>2</th>\n",
       "      <td>2</td>\n",
       "      <td>2010-04-07</td>\n",
       "      <td>34.52</td>\n",
       "    </tr>\n",
       "    <tr>\n",
       "      <th>3</th>\n",
       "      <td>2</td>\n",
       "      <td>2010-04-12</td>\n",
       "      <td>7.89</td>\n",
       "    </tr>\n",
       "    <tr>\n",
       "      <th>4</th>\n",
       "      <td>2</td>\n",
       "      <td>2010-04-14</td>\n",
       "      <td>17.17</td>\n",
       "    </tr>\n",
       "  </tbody>\n",
       "</table>\n",
       "</div>"
      ],
      "text/plain": [
       "   customer_id  visit_date  visit_spend\n",
       "0            2  2010-04-01         5.97\n",
       "1            2  2010-04-06        12.71\n",
       "2            2  2010-04-07        34.52\n",
       "3            2  2010-04-12         7.89\n",
       "4            2  2010-04-14        17.17"
      ]
     },
     "execution_count": 3,
     "metadata": {},
     "output_type": "execute_result"
    }
   ],
   "source": [
    "df.head()"
   ]
  },
  {
   "cell_type": "code",
   "execution_count": 6,
   "metadata": {},
   "outputs": [],
   "source": [
    "df_users = df.groupby(by=df.customer_id).agg({\n",
    "    'visit_date': lambda x: ' '.join(x),\n",
    "    'visit_spend': lambda x: ' '.join(map(str, x))\n",
    "})"
   ]
  },
  {
   "cell_type": "code",
   "execution_count": 21,
   "metadata": {},
   "outputs": [],
   "source": [
    "df_users_sample = df_users.loc[df_users.index[np.random.choice(np.arange(len(df_users)), size=10000)], :]"
   ]
  },
  {
   "cell_type": "code",
   "execution_count": 24,
   "metadata": {},
   "outputs": [
    {
     "data": {
      "text/html": [
       "<div>\n",
       "<style scoped>\n",
       "    .dataframe tbody tr th:only-of-type {\n",
       "        vertical-align: middle;\n",
       "    }\n",
       "\n",
       "    .dataframe tbody tr th {\n",
       "        vertical-align: top;\n",
       "    }\n",
       "\n",
       "    .dataframe thead th {\n",
       "        text-align: right;\n",
       "    }\n",
       "</style>\n",
       "<table border=\"1\" class=\"dataframe\">\n",
       "  <thead>\n",
       "    <tr style=\"text-align: right;\">\n",
       "      <th></th>\n",
       "      <th>visit_date</th>\n",
       "      <th>visit_spend</th>\n",
       "    </tr>\n",
       "    <tr>\n",
       "      <th>customer_id</th>\n",
       "      <th></th>\n",
       "      <th></th>\n",
       "    </tr>\n",
       "  </thead>\n",
       "  <tbody>\n",
       "    <tr>\n",
       "      <th>27448</th>\n",
       "      <td>2010-04-05 2010-04-13 2010-04-26 2010-04-28 20...</td>\n",
       "      <td>150.54 2.0 29.92 84.97 14.8 20.19 174.91 20.69...</td>\n",
       "    </tr>\n",
       "    <tr>\n",
       "      <th>115768</th>\n",
       "      <td>2010-04-19 2010-04-20 2010-05-10 2010-05-12 20...</td>\n",
       "      <td>21.65 149.89 96.24 147.2 74.66 81.91 136.77 28...</td>\n",
       "    </tr>\n",
       "    <tr>\n",
       "      <th>60323</th>\n",
       "      <td>2010-04-03 2010-04-09 2010-04-13 2010-04-17 20...</td>\n",
       "      <td>35.44 102.75 30.21 4.18 8.33 19.17 51.5 7.78 2...</td>\n",
       "    </tr>\n",
       "    <tr>\n",
       "      <th>3753</th>\n",
       "      <td>2010-04-01 2010-04-03 2010-04-06 2010-04-07 20...</td>\n",
       "      <td>98.85 32.66 20.24 54.7 9.18 34.08 31.13 60.18 ...</td>\n",
       "    </tr>\n",
       "    <tr>\n",
       "      <th>78400</th>\n",
       "      <td>2010-04-04 2010-04-09 2010-04-18 2010-04-21 20...</td>\n",
       "      <td>4.45 56.18 53.59 4.52 67.8 16.0 10.0 16.94 44....</td>\n",
       "    </tr>\n",
       "  </tbody>\n",
       "</table>\n",
       "</div>"
      ],
      "text/plain": [
       "                                                    visit_date  \\\n",
       "customer_id                                                      \n",
       "27448        2010-04-05 2010-04-13 2010-04-26 2010-04-28 20...   \n",
       "115768       2010-04-19 2010-04-20 2010-05-10 2010-05-12 20...   \n",
       "60323        2010-04-03 2010-04-09 2010-04-13 2010-04-17 20...   \n",
       "3753         2010-04-01 2010-04-03 2010-04-06 2010-04-07 20...   \n",
       "78400        2010-04-04 2010-04-09 2010-04-18 2010-04-21 20...   \n",
       "\n",
       "                                                   visit_spend  \n",
       "customer_id                                                     \n",
       "27448        150.54 2.0 29.92 84.97 14.8 20.19 174.91 20.69...  \n",
       "115768       21.65 149.89 96.24 147.2 74.66 81.91 136.77 28...  \n",
       "60323        35.44 102.75 30.21 4.18 8.33 19.17 51.5 7.78 2...  \n",
       "3753         98.85 32.66 20.24 54.7 9.18 34.08 31.13 60.18 ...  \n",
       "78400        4.45 56.18 53.59 4.52 67.8 16.0 10.0 16.94 44....  "
      ]
     },
     "execution_count": 24,
     "metadata": {},
     "output_type": "execute_result"
    }
   ],
   "source": [
    "df_users_sample.head()"
   ]
  },
  {
   "cell_type": "markdown",
   "metadata": {},
   "source": [
    "Рассмотрим следующие весовые схемы:\n",
    "\n",
    "1) логарифмическая: $w_i = \\frac{1}{ \\log (i + 2) }$\n",
    "\n",
    "2) среднее $w_i = 1$\n",
    "\n",
    "3) среднее среди k последних: $w_i = 1, i < k$\n",
    "\n",
    "4) линейная по k последним: $w_i = k - i, i < k$\n",
    "\n",
    "Заметим, что все эти схемы после нормировки $w_i$ суммируются в единицу. Также, 1 и 4 схемы подразумевают, что более новые элементы более важны.  \n",
    "\n",
    "В качестве основы для сравнения взята линейная весовая схема, описанная на лекции, с параметром $\\delta = 1$."
   ]
  },
  {
   "cell_type": "markdown",
   "metadata": {},
   "source": [
    "Оценивать будем по способности предсказывать на основе данной схемы следующий приход пользователя в день с максимальной вероятностью его прихода.\n",
    "\n",
    "Измерять качество будем с помощью метрики accuracy. "
   ]
  },
  {
   "cell_type": "code",
   "execution_count": 182,
   "metadata": {},
   "outputs": [],
   "source": [
    "def last_k_average_scema(values, k=10):\n",
    "    return values[-k:].mean()\n",
    "\n",
    "\n",
    "def last_k_linear_scema(values, k=10, alpha=1.0):\n",
    "    val_slice = values[-k:]\n",
    "    w = (np.arange(len(val_slice)) + 1) * alpha\n",
    "    return np.sum(val_slice * w) / np.sum(w)\n",
    "\n",
    "\n",
    "def log_schema(values):\n",
    "    w = 1 / np.log(np.arange(len(values)) + 2)\n",
    "    w = w[::-1]\n",
    "    return np.sum(values * w) / w.sum()\n",
    "\n",
    "\n",
    "def linear_schema(values):\n",
    "    w = np.linspace(0, 1, num=len(values))\n",
    "    return np.sum(values * w) / w.sum()\n",
    "\n",
    "\n",
    "def average_schema(values):\n",
    "    return np.mean(values)\n",
    "    \n",
    "\n",
    "def predict_using_schema(dates, spend, schema):\n",
    "    dates = dates.split()\n",
    "    spend = map(float, spend.split())\n",
    "    dates, spend = zip(*sorted(zip(dates, spend)))\n",
    "    dts = list(map(lambda x: datetime.strptime(x, \"%Y-%m-%d\"), dates))\n",
    "    dayweeks = list(map(lambda x: x.weekday(), dts))\n",
    "    weeks = list(map(lambda x: x.year * 100 + x.isocalendar()[1], dts))\n",
    "    dayweeks = np.array(dayweeks)\n",
    "    compressed_weeks = [0]\n",
    "    for i in range(1, len(weeks)):\n",
    "        if weeks[i] >= weeks[i-1] + 1:\n",
    "            compressed_weeks.append(compressed_weeks[-1] + 1)\n",
    "        else:\n",
    "            compressed_weeks.append(compressed_weeks[-1])\n",
    "    compressed_weeks = np.array(compressed_weeks)\n",
    "    \n",
    "    spend = np.array(spend)\n",
    "    scores_w = []\n",
    "    bins = []\n",
    "    maximum = compressed_weeks.max()\n",
    "    if maximum <= 1:\n",
    "        return True\n",
    "    for weekday in range(7):\n",
    "        mask = dayweeks == weekday\n",
    "        dayhist = spend[mask]\n",
    "        visitshist = compressed_weeks[mask]\n",
    "        binarized = np.zeros(maximum + 1)\n",
    "        binarized[visitshist] = 1\n",
    "        pr_vis = schema(binarized[:-1])\n",
    "        scores_w.append(pr_vis)\n",
    "        bins.append(binarized[-1])\n",
    "      \n",
    "    return (scores_w, bins)"
   ]
  },
  {
   "cell_type": "code",
   "execution_count": 183,
   "metadata": {},
   "outputs": [],
   "source": [
    "from sklearn.metrics import roc_auc_score"
   ]
  },
  {
   "cell_type": "code",
   "execution_count": 186,
   "metadata": {},
   "outputs": [],
   "source": [
    "schemas = [\n",
    "    log_schema,\n",
    "    last_k_average_scema,\n",
    "    last_k_linear_scema,\n",
    "    linear_schema,\n",
    "    average_schema\n",
    "]\n",
    "\n",
    "\n",
    "results = dict()\n",
    "for schema in schemas:\n",
    "    all_scores_vis = []\n",
    "    all_bins = []\n",
    "    for dates, spend in zip(df_users_sample.visit_date.values, df_users_sample.visit_spend.values):\n",
    "        scores, bins = predict_using_schema(dates, spend, schema=schema)\n",
    "        all_scores_vis.extend(scores)\n",
    "        all_bins.extend(bins)\n",
    "    results[schema.__name__] = roc_auc_score(y_score=all_scores_vis, y_true=all_bins)"
   ]
  },
  {
   "cell_type": "markdown",
   "metadata": {},
   "source": [
    "# Результаты"
   ]
  },
  {
   "cell_type": "code",
   "execution_count": 190,
   "metadata": {},
   "outputs": [
    {
     "data": {
      "text/html": [
       "<div>\n",
       "<style scoped>\n",
       "    .dataframe tbody tr th:only-of-type {\n",
       "        vertical-align: middle;\n",
       "    }\n",
       "\n",
       "    .dataframe tbody tr th {\n",
       "        vertical-align: top;\n",
       "    }\n",
       "\n",
       "    .dataframe thead th {\n",
       "        text-align: right;\n",
       "    }\n",
       "</style>\n",
       "<table border=\"1\" class=\"dataframe\">\n",
       "  <thead>\n",
       "    <tr style=\"text-align: right;\">\n",
       "      <th></th>\n",
       "      <th>schema</th>\n",
       "      <th>ROC_AUC</th>\n",
       "    </tr>\n",
       "  </thead>\n",
       "  <tbody>\n",
       "    <tr>\n",
       "      <th>0</th>\n",
       "      <td>last_k_average_scema</td>\n",
       "      <td>0.728660</td>\n",
       "    </tr>\n",
       "    <tr>\n",
       "      <th>1</th>\n",
       "      <td>last_k_linear_scema</td>\n",
       "      <td>0.724838</td>\n",
       "    </tr>\n",
       "    <tr>\n",
       "      <th>2</th>\n",
       "      <td>log_schema</td>\n",
       "      <td>0.753316</td>\n",
       "    </tr>\n",
       "    <tr>\n",
       "      <th>3</th>\n",
       "      <td>linear_schema</td>\n",
       "      <td>0.753372</td>\n",
       "    </tr>\n",
       "    <tr>\n",
       "      <th>4</th>\n",
       "      <td>average_schema</td>\n",
       "      <td>0.749942</td>\n",
       "    </tr>\n",
       "  </tbody>\n",
       "</table>\n",
       "</div>"
      ],
      "text/plain": [
       "                 schema   ROC_AUC\n",
       "0  last_k_average_scema  0.728660\n",
       "1   last_k_linear_scema  0.724838\n",
       "2            log_schema  0.753316\n",
       "3         linear_schema  0.753372\n",
       "4        average_schema  0.749942"
      ]
     },
     "execution_count": 190,
     "metadata": {},
     "output_type": "execute_result"
    }
   ],
   "source": [
    "pd.DataFrame(results.items(), columns=['schema', 'ROC_AUC'])"
   ]
  },
  {
   "cell_type": "markdown",
   "metadata": {},
   "source": [
    "Итоги: в приведённой таблице можно увидеть сравнение предложенных весовых схем со стандартной, описанной в лекции линейной схемой с параметром $\\delta = 1$.\n",
    "\n",
    "По результатам сравнения можно сделать вывод, что:\n",
    "\n",
    "1) последние значения посещений клиента важнее более старых, так как average_schema уступает linear_schema\n",
    "\n",
    "2) схемы, основанные на последних элементах уступают остальным по качеству. Это скорее всего связано с тем, что оценки, построенные на относительно небольшом количестве элементов более шумные\n",
    "\n",
    "3) логарифмическая схема и описанная на лекции линейная, имеют приблизитнльо одинаковое качество, что говорит о том, что сила учитывания \"хвоста\" истории  не имеет принципиального решения в данной задаче. "
   ]
  },
  {
   "cell_type": "code",
   "execution_count": null,
   "metadata": {},
   "outputs": [],
   "source": []
  }
 ],
 "metadata": {
  "kernelspec": {
   "display_name": "Python 3",
   "language": "python",
   "name": "python3"
  },
  "language_info": {
   "codemirror_mode": {
    "name": "ipython",
    "version": 3
   },
   "file_extension": ".py",
   "mimetype": "text/x-python",
   "name": "python",
   "nbconvert_exporter": "python",
   "pygments_lexer": "ipython3",
   "version": "3.5.2"
  }
 },
 "nbformat": 4,
 "nbformat_minor": 2
}
